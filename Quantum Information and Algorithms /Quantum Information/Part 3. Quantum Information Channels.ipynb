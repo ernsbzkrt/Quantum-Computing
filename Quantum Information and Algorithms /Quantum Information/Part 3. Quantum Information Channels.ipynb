{
  "nbformat": 4,
  "nbformat_minor": 0,
  "metadata": {
    "colab": {
      "provenance": []
    },
    "kernelspec": {
      "name": "python3",
      "display_name": "Python 3"
    },
    "language_info": {
      "name": "python"
    }
  },
  "cells": [
    {
      "cell_type": "markdown",
      "source": [
        "#**1.Quantum Information Channels**\n",
        "\n",
        "Quantum information channels are information transmission systems based on the principles of quantum mechanics. Unlike traditional information transmission systems, quantum information channels transmit and process quantum states.\n",
        "\n",
        "A quantum information channel is typically designed as a physical system that transmits a quantum state. Quantum states, replacing the classical bits used in classical information transfer, are called quantum bits or \"qubits.\" Unlike classical bits, qubits have the ability to exist in both 0 and 1 simultaneously, enabling parallel processing. This potential for parallelism can lead to increased speed and efficiency in quantum information processing and transmission.\n",
        "\n",
        "Quantum information channels can utilize various quantum mechanical phenomena to enable the transmission, processing, and reception of quantum states. Among these phenomena are photonic quantum states for quantum telecommunication (e.g., quantum key distribution), nuclear magnetism for quantum information processing (e.g., nuclear magnetic resonance), and concepts like quantum entanglement for quantum entanglement.\n",
        "\n",
        "Quantum information channels have significant applications in areas such as quantum information processing, quantum communication, and quantum computing. They are particularly used to develop secure and fast communication protocols such as quantum encryption, quantum key distribution, and quantum teleportation.\n",
        "\n"
      ],
      "metadata": {
        "id": "lBg1_2JC6qJD"
      }
    },
    {
      "cell_type": "markdown",
      "source": [
        "Within the scope of this topic, Qiskit hosts the **qiskit.quantum_info** module. This module contains several classes representing quantum information channels. Below is a table listing the classes representing quantum information channels in the **qiskit.quantum_info module** along with their descriptions:\n",
        "\n",
        "| Class Name   | Description                                                                   |\n",
        "|--------------|-------------------------------------------------------------------------------|\n",
        "| Choi         | Representation of the Choi matrix of a quantum channel.                       |\n",
        "| SuperOp      | Representation of the superoperator of a quantum channel.                     |\n",
        "| Kraus        | Representation of the Kraus operators of a quantum channel.                   |\n",
        "| Stinespring  | Representation of the Stinespring operator of a quantum channel.              |\n",
        "| Chi          | Representation of the Pauli basis Chi matrix of a quantum channel.            |\n",
        "| PTM          | Representation of the Pauli Transfer Matrix (PTM) of a quantum channel.       |"
      ],
      "metadata": {
        "id": "YrxAH97MD_R5"
      }
    },
    {
      "cell_type": "markdown",
      "source": [
        "Let's discuss an example right away.\n",
        "\n",
        "Here we will use the *Kraus* representation."
      ],
      "metadata": {
        "id": "65831F9tD_7Z"
      }
    },
    {
      "cell_type": "code",
      "source": [
        "#1.\n",
        "from qiskit import QuantumCircuit,transpile\n",
        "from qiskit.quantum_info import Kraus\n",
        "from qiskit_aer import Aer\n",
        "import numpy as np"
      ],
      "metadata": {
        "id": "HgPaZa0zEFf5"
      },
      "execution_count": 23,
      "outputs": []
    },
    {
      "cell_type": "code",
      "source": [
        "#2.\n",
        "noise_ops = [np.sqrt(0.9) * np.array([[1, 0],[0, 1]]), np.sqrt(0.1) * np.array([[0, 1], [1, 0]])]\n",
        "kraus = Kraus(noise_ops)"
      ],
      "metadata": {
        "id": "alqtZoo7EUHo"
      },
      "execution_count": 24,
      "outputs": []
    },
    {
      "cell_type": "markdown",
      "source": [
        "**We may need to explain this part.**\n",
        "\n",
        "* This code defines noise operators in the context of Quantum Error Correction (QEC) or Quantum Noise modeling.\n",
        "\n",
        "**Now let's elaborate a bit more.**\n",
        "\n",
        "* This code defines noise operators in the context of Quantum Error Correction (QEC) or Quantum Noise modeling.\n",
        "\n",
        "  * First, a list named `noise_ops` is defined. Each item in this list represents a noise operator. The expression `np.sqrt(0.9) * np.array([[1, 0],[0, 1]])` matches with the scaled version of the identity matrix by √0.9. This represents a \"low-density\" error in a system, meaning the identity operator remains unchanged.\n",
        "\n",
        "  * The second item is defined with the expression `np.sqrt(0.1) * np.array([[0, 1], [1, 0]])`, representing a bit flip error. Here, a Pauli X (bit flip) operator scaled by √0.1 is used. This type of error alters the state of a qubit. For example, a qubit in the state 0 can flip to 1 due to an error, or vice versa.\n",
        "\n",
        "  * Finally, an object from the `Kraus` class is instantiated, and the `noise_ops` list is passed as a parameter to it. The `Kraus` class is a commonly used structure in a QEC model or noise modeling. Kraus operators are matrices representing possible error types on a qubit. These errors can affect the superposition states and correlations of qubits.\n",
        "\n",
        "This code snippet creates a model containing two types of operators representing noise (identity and bit flip). This model can then be used in designing quantum error correction algorithms or other techniques aimed at mitigating noise."
      ],
      "metadata": {
        "id": "DzLUy1XZEYqo"
      }
    },
    {
      "cell_type": "code",
      "source": [
        "#3.\n",
        "qc = QuantumCircuit(2)\n",
        "qc.append(kraus, [0])\n",
        "qc.append(kraus, [1])"
      ],
      "metadata": {
        "colab": {
          "base_uri": "https://localhost:8080/"
        },
        "id": "ESXxzgiJEZIq",
        "outputId": "ca7e43d8-1410-45db-81fc-1e5d3017f993"
      },
      "execution_count": 25,
      "outputs": [
        {
          "output_type": "execute_result",
          "data": {
            "text/plain": [
              "<qiskit.circuit.instructionset.InstructionSet at 0x7f46470ca740>"
            ]
          },
          "metadata": {},
          "execution_count": 25
        }
      ]
    },
    {
      "cell_type": "code",
      "source": [
        "#4.\n",
        "qc.measure_all()\n",
        "qc.draw()"
      ],
      "metadata": {
        "colab": {
          "base_uri": "https://localhost:8080/",
          "height": 125
        },
        "id": "WzSc_J-hEbxv",
        "outputId": "e2eddd7b-39b8-4957-df6b-c97000967988"
      },
      "execution_count": 26,
      "outputs": [
        {
          "output_type": "execute_result",
          "data": {
            "text/plain": [
              "        ┌───────┐ ░ ┌─┐   \n",
              "   q_0: ┤ kraus ├─░─┤M├───\n",
              "        ├───────┤ ░ └╥┘┌─┐\n",
              "   q_1: ┤ kraus ├─░──╫─┤M├\n",
              "        └───────┘ ░  ║ └╥┘\n",
              "meas: 2/═════════════╩══╩═\n",
              "                     0  1 "
            ],
            "text/html": [
              "<pre style=\"word-wrap: normal;white-space: pre;background: #fff0;line-height: 1.1;font-family: &quot;Courier New&quot;,Courier,monospace\">        ┌───────┐ ░ ┌─┐   \n",
              "   q_0: ┤ kraus ├─░─┤M├───\n",
              "        ├───────┤ ░ └╥┘┌─┐\n",
              "   q_1: ┤ kraus ├─░──╫─┤M├\n",
              "        └───────┘ ░  ║ └╥┘\n",
              "meas: 2/═════════════╩══╩═\n",
              "                     0  1 </pre>"
            ]
          },
          "metadata": {},
          "execution_count": 26
        }
      ]
    },
    {
      "cell_type": "code",
      "source": [
        "#5.\n",
        "backend = Aer.get_backend(\"aer_simulator\")\n",
        "tqc = transpile(qc, backend)\n",
        "job = backend.run(tqc, shots=1000)\n",
        "result = job.result()\n",
        "counts = result.get_counts(tqc)\n",
        "print(counts)"
      ],
      "metadata": {
        "colab": {
          "base_uri": "https://localhost:8080/"
        },
        "id": "LuAM-Wq_Ec2K",
        "outputId": "226526b5-be3f-4390-c841-b2dd106f513a"
      },
      "execution_count": 27,
      "outputs": [
        {
          "output_type": "stream",
          "name": "stdout",
          "text": [
            "{'11': 6, '01': 90, '00': 825, '10': 79}\n"
          ]
        }
      ]
    },
    {
      "cell_type": "markdown",
      "source": [
        "Now let's discuss the output here.\n",
        "\n",
        "1. This output represents the results obtained from simulating a 2-qubit quantum circuit.\n",
        "\n",
        "2. These results show the statistical outcomes obtained after 1000 shots on a specific 2-qubit configuration in a quantum circuit. Each outcome represents a specific qubit configuration.\n",
        "\n",
        "**For example:**\n",
        "- 11 occurrences were obtained in 6 shots.\n",
        "- 01 occurrences were obtained in 90 shots.\n",
        "- 10 occurrences were obtained in 79 shots.\n",
        "- 00 occurrences were obtained in 825 shots."
      ],
      "metadata": {
        "id": "p5UQtysaEhJ4"
      }
    }
  ]
}