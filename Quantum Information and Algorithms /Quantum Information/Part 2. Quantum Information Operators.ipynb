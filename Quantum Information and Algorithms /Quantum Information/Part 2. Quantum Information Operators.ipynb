{
  "nbformat": 4,
  "nbformat_minor": 0,
  "metadata": {
    "colab": {
      "provenance": []
    },
    "kernelspec": {
      "name": "python3",
      "display_name": "Python 3"
    },
    "language_info": {
      "name": "python"
    }
  },
  "cells": [
    {
      "cell_type": "markdown",
      "source": [
        "#**1.Quantum Information Operators**\n",
        "\n",
        "Quantum Information Operators are operators used in quantum computers and quantum information processing systems. These operators define the states and evolutions of quantum mechanical systems.\n",
        "\n",
        "The operation of quantum computers is based on concepts such as superposition and quantum parallelism. Therefore, quantum operators define operations that affect and manipulate these properties of qubits. Some fundamental quantum operators include the Hadamard operator, Pauli matrices (X, Y, Z), CNOT (Controlled-NOT) gates, and phase shift gates.\n",
        "\n",
        "These operators are the building blocks of quantum algorithms and quantum computing methods. Quantum circuits involve the application of these operators in a specific order, using combinations of these operators to guide quantum information towards the desired outcome."
      ],
      "metadata": {
        "id": "lBg1_2JC6qJD"
      }
    },
    {
      "cell_type": "markdown",
      "source": [
        "**The qiskit.quantum_info module** contains several classes representing quantum information operators. These classes are used to manipulate and analyze quantum states, operations, and channels. Here are some of the main classes related to quantum information operators in Qiskit:\n",
        "\n",
        "| Class         | Description                                               |\n",
        "|---------------|-----------------------------------------------------------|\n",
        "| Operator      | A class representing an operator modeled by a complex matrix.     |\n",
        "| Pauli         | Multi-qubit Pauli operator.                               |\n",
        "| Clifford      | A multi-qubit unitary operator from the Clifford group.       |\n",
        "| ScalarOp      | Class representing a scalar identity operator.                            |\n",
        "| SparsePauliOp | A sparse multi-qubit operator represented in the Pauli basis.  |\n",
        "| CNOTDihedral  | A multi-qubit operator from the CNOT-Dihedral group.          |\n",
        "| PauliList     | A list of multi-qubit Pauli operators.             |"
      ],
      "metadata": {
        "id": "SrFFq7JoAuOp"
      }
    },
    {
      "cell_type": "markdown",
      "source": [
        "In this section, we will focus on the frequently used Operator and Pauli classes."
      ],
      "metadata": {
        "id": "4t8hCUs7A_Hh"
      }
    },
    {
      "cell_type": "markdown",
      "source": [
        "**1.2.1. Operator Class**\n",
        "\n",
        "**Purpose**\n",
        "\n",
        "* The Operator class represents a general quantum operator used in quantum computers and quantum information processing systems. These operators represent linear transformations that convert the state of a quantum system to another state.\n",
        "\n",
        "**Key Features**\n",
        "\n",
        "* The Operator class is modeled with a complex matrix. This matrix can represent an operator acting on a single qubit or multiple qubits.\n",
        "\n",
        "**Applications**\n",
        "\n",
        "* It can be used to represent quantum gates. For example, Hadamard gate, CNOT gate, single and multi-qubit rotation gates, and more.\n",
        "It can be used to represent Hamiltonian operators. This operator describes the energy levels in a system and how they change over time. It can be used to represent other linear operators as well.\n",
        "\n",
        "**Functionalities**\n",
        "\n",
        "* You can perform mathematical operations between operators. For example, addition, multiplication, inversion, etc.\n",
        "It can be used to model interactions between operators and quantum circuit elements (gates, measurements, etc.).\n",
        "\n",
        "**Let's examine this with an example.**"
      ],
      "metadata": {
        "id": "S7w88Y98A_uA"
      }
    },
    {
      "cell_type": "code",
      "source": [
        "#1.\n",
        "from qiskit import QuantumCircuit\n",
        "from qiskit.quantum_info import Operator\n",
        "\n",
        "#2.\n",
        "qc = QuantumCircuit(2)\n",
        "\n",
        "#3.\n",
        "qc.id(0)\n",
        "qc.x(1)\n",
        "\n",
        "#4.\n",
        "op_XI = Operator(qc)\n",
        "print(op_XI.data)"
      ],
      "metadata": {
        "colab": {
          "base_uri": "https://localhost:8080/"
        },
        "id": "hAvRdo41BSCY",
        "outputId": "928fa51c-0b6f-479e-b257-b1b98bd591cc"
      },
      "execution_count": 17,
      "outputs": [
        {
          "output_type": "stream",
          "name": "stdout",
          "text": [
            "[[0.+0.j 0.+0.j 1.+0.j 0.+0.j]\n",
            " [0.+0.j 0.+0.j 0.+0.j 1.+0.j]\n",
            " [1.+0.j 0.+0.j 0.+0.j 0.+0.j]\n",
            " [0.+0.j 1.+0.j 0.+0.j 0.+0.j]]\n"
          ]
        }
      ]
    },
    {
      "cell_type": "markdown",
      "source": [
        "**Let's talk a bit about the `Operator` function.**\n",
        "\n",
        "The `Operator` function creates a matrix representing the effect of a quantum circuit from a `QuantumCircuit` object. In other words, it takes a `QuantumCircuit` object, which is a collection of gates and quantum operations forming a quantum circuit, and generates a matrix that precisely describes what this circuit does.\n",
        "\n",
        "**Let's look at another method.**"
      ],
      "metadata": {
        "id": "RxwY0tClBijJ"
      }
    },
    {
      "cell_type": "code",
      "source": [
        "#1.\n",
        "from qiskit.quantum_info import Operator\n",
        "from qiskit.circuit.library.standard_gates import CPhaseGate\n",
        "import numpy as np\n",
        "\n",
        "#2.\n",
        "op_CP = Operator(CPhaseGate(np.pi / 4))\n",
        "print(op_CP.data)"
      ],
      "metadata": {
        "colab": {
          "base_uri": "https://localhost:8080/"
        },
        "id": "cpg9KfmJBjRd",
        "outputId": "4b09485d-ed51-4d7d-fef8-f4f53a5a2cb9"
      },
      "execution_count": 18,
      "outputs": [
        {
          "output_type": "stream",
          "name": "stdout",
          "text": [
            "[[1.        +0.j         0.        +0.j         0.        +0.j\n",
            "  0.        +0.j        ]\n",
            " [0.        +0.j         1.        +0.j         0.        +0.j\n",
            "  0.        +0.j        ]\n",
            " [0.        +0.j         0.        +0.j         1.        +0.j\n",
            "  0.        +0.j        ]\n",
            " [0.        +0.j         0.        +0.j         0.        +0.j\n",
            "  0.70710678+0.70710678j]]\n"
          ]
        }
      ]
    },
    {
      "cell_type": "markdown",
      "source": [
        "Commonly used methods and attributes for the Density Matrix class are listed below:"
      ],
      "metadata": {
        "id": "p6zoZdW-BzZ2"
      }
    },
    {
      "cell_type": "markdown",
      "source": [
        "| Method Name   | Description                                                                               |\n",
        "|--------------|----------------------------------------------------------------------------------------|\n",
        "| adjoint      | Returns the adjoint of the operator.                                                    |\n",
        "| compose      | Returns the result of composing this operator with a provided operator on the left-hand side. |\n",
        "| conjugate    | Returns the complex conjugate of the operator.                                          |\n",
        "| copy         | Returns a copy of the operator.                                                         |\n",
        "| dot          | Returns the result of dotting this operator with a provided operator on the right-hand side. |\n",
        "| equiv        | Returns a Boolean value indicating whether a provided operator is equivalent to this operator, except for a global phase. |\n",
        "| expand       | Returns the tensor product of this operator with another provided operator.             |\n",
        "| from_label   | Returns the tensor product of single-qubit operators.                                   |\n",
        "| is_unitary   | Returns a Boolean value indicating whether this operator is a unitary matrix.           |\n",
        "| power        | Returns the operator raised to the specified power.                                     |\n",
        "| tensor       | Returns the tensor product of this operator with another provided operator.             |\n",
        "| to_instruction | Converts this operator to a UnitaryGate.                                                |\n",
        "| transpose    | Returns the transpose of the operator.                                                  |"
      ],
      "metadata": {
        "id": "nWsW2wYaB6w_"
      }
    },
    {
      "cell_type": "markdown",
      "source": [
        "**Now let's look at the Attributes.**\n"
      ],
      "metadata": {
        "id": "BijwIUaoCICJ"
      }
    },
    {
      "cell_type": "markdown",
      "source": [
        "\n",
        "\n",
        "| Attribüte Name | Description                                                                                                                  |\n",
        "|----------------|------------------------------------------------------------------------------------------------------------------------------|\n",
        "| data           | Represents the matrix contained by the Operator.                                                                            |\n",
        "| dim            | Contains the dimension of the Operator, i.e., the number of rows and columns of the matrix.                                  |\n",
        "| num_qubits     | Represents the number of qubits affected by the Operator or None if it's not applicable.                                      |"
      ],
      "metadata": {
        "id": "VMkc4S0iCE15"
      }
    },
    {
      "cell_type": "markdown",
      "source": [
        "**1.2.2. Pauli Class**\n",
        "\n",
        "The `Pauli` class is a class used in Qiskit's `qiskit.quantum_info` module to represent multi-qubit Pauli operators. Pauli operators play a significant role in quantum computation and quantum information processing. Particularly, they are frequently used in quantum error correction codes and quantum circuits.\n",
        "\n",
        "This class is utilized to represent Pauli operators acting on multiple qubits. Pauli operators are composed of tensor products of X, Y, and Z Pauli matrices, defining interactions on one or more qubits.\n",
        "\n",
        "These operators are a fundamental component, especially in quantum error correction codes and the analysis of quantum circuits.\n",
        "\n",
        "In summary, the `Pauli` class is a tool used to represent multi-qubit Pauli operators and is an essential component supporting quantum computations and information processing in Qiskit."
      ],
      "metadata": {
        "id": "b0TtcJE8CQHB"
      }
    },
    {
      "cell_type": "markdown",
      "source": [
        "The Pauli class represents a multi-qubit Pauli operator, where each qubit is associated with an X, Y, Z, or I Pauli matrix. A Pauli can be created with a string containing Pauli operators, often preceded by an optional phase coefficient.\n",
        "\n",
        "*Let's discuss this with an example immediately.*"
      ],
      "metadata": {
        "id": "EYtVFdAPCYTR"
      }
    },
    {
      "cell_type": "code",
      "source": [
        "#1.\n",
        "from qiskit.quantum_info import Pauli\n",
        "\n",
        "#2.\n",
        "pauli_piXZ = Pauli('-XZ')\n",
        "print(pauli_piXZ.to_matrix())"
      ],
      "metadata": {
        "colab": {
          "base_uri": "https://localhost:8080/"
        },
        "id": "AksNJjf4Ca1B",
        "outputId": "2926c491-6b39-4154-f790-6d240d56bb86"
      },
      "execution_count": 20,
      "outputs": [
        {
          "output_type": "stream",
          "name": "stdout",
          "text": [
            "[[ 0.+0.j  0.+0.j -1.+0.j  0.+0.j]\n",
            " [ 0.+0.j  0.+0.j  0.+0.j  1.-0.j]\n",
            " [-1.+0.j  0.+0.j  0.+0.j  0.+0.j]\n",
            " [ 0.+0.j  1.-0.j  0.+0.j  0.+0.j]]\n"
          ]
        }
      ]
    },
    {
      "cell_type": "markdown",
      "source": [
        "Below is a table listing the common methods and attributes for the Pauli class:\n",
        "\n",
        "| Method       | Description                                                                                     |\n",
        "|--------------|-------------------------------------------------------------------------------------------------|\n",
        "| adjoint      | Returns the adjoint of the Pauli.                                                               |\n",
        "| commutes     | Returns a Boolean value indicating whether the commutator with a specified Pauli is zero.       |\n",
        "| compose      | Returns the result of composing this Pauli with a specified Pauli from the left.                 |\n",
        "| conjugate    | Returns the complex conjugate of the Pauli.                                                      |\n",
        "| copy         | Returns a copy of the Pauli.                                                                    |\n",
        "| dot          | Returns the result of dotting this Pauli with a specified Pauli from the right.                  |\n",
        "| equiv        | Returns a Boolean value indicating whether a specified Pauli is equivalent to this Pauli, except for a global phase. |\n",
        "| expand       | Returns the tensor product with another Pauli.                                                   |\n",
        "| inverse      | Returns the inverse of the Pauli.                                                               |\n",
        "| power        | Returns the Pauli raised to a specified power.                                                   |\n",
        "| tensor       | Returns the tensor product with another Pauli.                                                   |\n",
        "| to_label     | Converts this Pauli to a string label containing optional phase and Pauli gates X, Y, Z, and I. |\n",
        "| to_matrix    | Converts this Pauli to a complex matrix.                                                         |\n",
        "| transpose    | Returns the transpose of the Pauli.                                                              |\n",
        "\n"
      ],
      "metadata": {
        "id": "Y5nZrfmnCmZM"
      }
    },
    {
      "cell_type": "markdown",
      "source": [
        "Let's translate the attributes:\n",
        "\n",
        "| Attribute Name | Description                                                                   |\n",
        "|----------------|-------------------------------------------------------------------------------|\n",
        "| dim            | Contains the dimensions of the complex Pauli matrix.                           |\n",
        "| num_qubits     | Contains the number of qubits in the Pauli, or None if not applicable.        |\n",
        "| phase          | Contains an integer value representing the phase of the Pauli.                 |"
      ],
      "metadata": {
        "id": "94hOQHjHCtwq"
      }
    }
  ]
}