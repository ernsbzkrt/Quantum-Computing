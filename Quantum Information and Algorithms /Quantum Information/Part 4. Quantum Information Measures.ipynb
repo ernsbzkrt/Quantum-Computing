{
  "nbformat": 4,
  "nbformat_minor": 0,
  "metadata": {
    "colab": {
      "provenance": []
    },
    "kernelspec": {
      "name": "python3",
      "display_name": "Python 3"
    },
    "language_info": {
      "name": "python"
    }
  },
  "cells": [
    {
      "cell_type": "markdown",
      "source": [
        "#**1.Quantum Information Measures**\n",
        "\n",
        "Quantum information measures are mathematical tools used to measure, manipulate, and assess information within quantum mechanics. These measures are of critical importance for the development of quantum technologies such as quantum computers, quantum communication, and quantum information processing.\n",
        "\n",
        "These measurements play a significant role in areas such as the development of quantum computers, quantum encryption systems, and quantum communication. Quantum information measures are fundamental tools used to understand, control, and optimize the behavior of quantum systems.\n",
        "\n",
        "*We can see the functions related to the subject and their descriptions in the table below.*\n",
        "\n",
        "| Function Name           | Description                                                    |\n",
        "|--------------------------|----------------------------------------------------------------|\n",
        "| average_gate_fidelity    | Calculates the average gate fidelity of a noisy quantum channel |\n",
        "| process_fidelity         | Calculates the process fidelity of a noisy quantum channel     |\n",
        "| gate_error               | Calculates the gate error of a noisy quantum channel           |\n",
        "| diamond_norm             | Calculates the diamond norm of an input quantum channel object |\n",
        "| state_fidelity           | Calculates the state fidelity between two quantum states       |\n",
        "| purity                   | Calculates the purity of a quantum state                       |\n",
        "| concurrence              | Calculates the concurrence of a quantum state                  |\n",
        "| entropy                  | Calculates the von Neumann entropy of a quantum state           |\n",
        "| entanglement_of_formation| Calculates the entanglement of formation of a quantum state     |\n",
        "| mutual_information       | Calculates the mutual information of a two-particle state      |\n"
      ],
      "metadata": {
        "id": "lBg1_2JC6qJD"
      }
    },
    {
      "cell_type": "markdown",
      "source": [
        "*Each function in the table represents a specific mathematical function that enables the measurement of different quantum information or evaluation of quantum processes.*\n",
        "\n",
        "***Here is a brief description of each function.***"
      ],
      "metadata": {
        "id": "LoAXQLSmImPo"
      }
    },
    {
      "cell_type": "markdown",
      "source": [
        "**average_gate_fidelity:**\n",
        "* Calculates the average gate fidelity of a noisy quantum channel. This measures how accurately a quantum gate operates in a state corrupted by noise.\n",
        "\n",
        "**process_fidelity:**\n",
        "* Calculates the process fidelity of a noisy quantum channel. This measures how accurately a quantum process operates in a state corrupted by noise.\n",
        "\n",
        "**gate_error:**\n",
        "* Calculates the gate error of a noisy quantum channel. This measures the accuracy of a quantum gate.\n",
        "\n",
        "**diamond_norm:**\n",
        "* Calculates the diamond norm of an input quantum channel object. This is a measure representing a specific property of a quantum channel.\n",
        "\n",
        "**state_fidelity:**\n",
        "* Calculates the state fidelity between two quantum states. This measures the similarity between two quantum states.\n",
        "\n",
        "**purity:**\n",
        "* Calculates the purity of a quantum state. This measures how pure a quantum state is.\n",
        "\n",
        "**concurrence:**\n",
        "* Calculates the concurrence of a quantum state. This measures the internal entanglement of a quantum state.\n",
        "\n",
        "**entropy:**\n",
        "* Calculates the von Neumann entropy of a quantum state. This measures the degree of uncertainty of a quantum state.\n",
        "\n",
        "**entanglement_of_formation:**\n",
        "* Calculates the entanglement of formation of a quantum state. This measures the formation of internal entanglement of a quantum state.\n",
        "\n",
        "**mutual_information:**\n",
        "* Calculates the mutual information of a two-particle state. This measures the information relationship between two particles."
      ],
      "metadata": {
        "id": "k_VjZIcNJAVg"
      }
    },
    {
      "cell_type": "markdown",
      "source": [
        "These functions provide important tools for the general analysis of quantum information processing, quantum communication, and quantum technologies. They are particularly used to evaluate the performance of quantum computers and determine the reliability of quantum communication protocols.\n",
        "\n",
        "*Let's immediately create an example related to this.*\n",
        "\n"
      ],
      "metadata": {
        "id": "55KH6W9bJMWo"
      }
    },
    {
      "cell_type": "code",
      "source": [
        "#1.\n",
        "from qiskit.quantum_info import Statevector, Operator, state_fidelity\n",
        "\n",
        "#2.\n",
        "sv_a = Statevector.from_label('+')\n",
        "sv_b = sv_a.evolve(Operator.from_label('T'))\n",
        "\n",
        "#3.\n",
        "print(state_fidelity(sv_a, sv_b))"
      ],
      "metadata": {
        "colab": {
          "base_uri": "https://localhost:8080/"
        },
        "id": "D-6Blj6pJM-U",
        "outputId": "d6973a2f-42f7-4f02-b6a9-7a5201a470ce"
      },
      "execution_count": 28,
      "outputs": [
        {
          "output_type": "stream",
          "name": "stdout",
          "text": [
            "0.8535533905932733\n"
          ]
        }
      ]
    },
    {
      "cell_type": "markdown",
      "source": [
        "***Now let's discuss this code a bit.***\n",
        "\n",
        "**1. sv_a = Statevector.from_label('+')**\n",
        "\n",
        "Here we assign an initial quantum state to the variable sv_a. This state represents a predefined plus state, where there is an equal superposition of 0 and 1 states.\n",
        "\n",
        "**2. sv_b = sv_a.evolve(Operator.from_label('T'))**\n",
        "\n",
        "We assign to the variable sv_b the state obtained after the evolution of the sv_a state under the influence of an operator. Here, the Operator.from_label('T') function represents a predefined 'T' gate in Qiskit. This gate is a quantum gate that rotates a qubit by the phase factor e^iπ/4. This gate changes the phase of a qubit without altering its other properties.\n",
        "\n",
        "**3. print(state_fidelity(sv_a, sv_b))**\n",
        "\n",
        "We compute and print the state fidelity between sv_a and sv_b using the state_fidelity function. State fidelity measures the similarity between two quantum states. This is a simple example of computing the fidelity of a specific quantum circuit or state using Qiskit."
      ],
      "metadata": {
        "id": "7VCoeAfiJfS3"
      }
    }
  ]
}