{
  "nbformat": 4,
  "nbformat_minor": 0,
  "metadata": {
    "colab": {
      "provenance": []
    },
    "kernelspec": {
      "name": "python3",
      "display_name": "Python 3"
    },
    "language_info": {
      "name": "python"
    }
  },
  "cells": [
    {
      "cell_type": "markdown",
      "source": [
        "# Section 2: Running Quantum Circuits"
      ],
      "metadata": {
        "id": "laZDSpB1bEZz"
      }
    },
    {
      "cell_type": "markdown",
      "source": [
        "Qiskit supports running quantum circuits on a wide range of quantum simulators and devices. In this section, we will discuss and examine the relevant classes and functions.\n",
        "\n",
        "* **qiskit.providers.basicaer**\n",
        "* **qiskit.providers.aer**\n",
        "* **qiskit.providers**"
      ],
      "metadata": {
        "id": "nfAmicF1XPFd"
      }
    },
    {
      "cell_type": "markdown",
      "source": [
        "**a. qiskit.providers.basicaer**\n",
        "\n",
        "Qiskit's basic simulation provider. This module includes a variety of fundamental simulators implemented in Python. These simulators can be used to simulate quantum circuits with various characteristics. In particular, these simulators typically operate quickly and can handle quantum circuits of smaller sizes compared to the complexity of state-of-the-art quantum computers. Some commonly used BasicAer simulators include qasm_simulator, statevector_simulator, unitary_simulator, and pulse_simulator. These simulators can be used to simulate various aspects of quantum circuits, such as computing circuit outputs, obtaining state vectors and unitary matrices, or simulating pulsed quantum circuits. This module provides the foundational simulation infrastructure for Qiskit and is a common tool for developing and testing quantum algorithms.\n",
        "\n",
        "Here is a table about four fundamental simulators found in Qiskit's BasicAer module:\n",
        "\n",
        "| Simulator Name         | Purpose                                                                   | Use Case                                                                      |\n",
        "|-----------------------|---------------------------------------------------------------------------|-------------------------------------------------------------------------------|\n",
        "| qasm_simulator        | Qiskit's standard quantum circuit simulator.                              | Simulation of noiseless circuits and measurement of outputs.                  |\n",
        "| statevector_simulator | Computes the final state vector of a circuit.                             | Understanding and analyzing the complete state of circuit outputs.            |\n",
        "| unitary_simulator     | Computes the unitary matrix of a circuit.                                 | Understanding and analyzing unitary evolutions of circuits.                   |\n",
        "| pulse_simulator       | Used for simulating pulsed quantum circuits.                              | Simulation of circuits operating with pulsed control signals.                 |\n",
        "\n",
        "\n",
        "These simulators are used to simulate different types of quantum circuits, each with its unique area of application."
      ],
      "metadata": {
        "id": "AumFuo88aF5b"
      }
    },
    {
      "cell_type": "markdown",
      "source": [
        "**qiskit.providers.aer**\n",
        "\n",
        "**b. qiskit.providers.aer**\n",
        "\n",
        "It is the advanced simulation provider of Qiskit. This module contains a set of simulators developed to simulate quantum circuits with higher accuracy and complexity. AER (Advanced Simulation Environment for Quantum Computing) is a high-performance and optimized quantum simulation framework. The qiskit.providers.aer module provides various simulators using this framework.\n",
        "\n",
        "Some of the main advantages of this module include:\n",
        "\n",
        "* **High Performance:** AER is optimized to simulate quantum circuits quickly and efficiently, allowing for faster simulation of more complex circuits.\n",
        "\n",
        "* **Advanced Features:** AER offers a range of advanced features beyond basic simulation capabilities. This may include operating in noisy environments, parallel processing support, and more.\n",
        "\n",
        "* **Real Device Emulation:** Some AER simulators are designed to better mimic the behavior of real devices. This can help in better predicting the results expected on real devices.\n",
        "\n",
        "The qiskit.providers.aer module provides Qiskit with advanced simulation capabilities, enabling deeper analysis and optimization of quantum algorithms."
      ],
      "metadata": {
        "id": "MZBwxnaTac58"
      }
    },
    {
      "cell_type": "markdown",
      "source": [
        "**c. qiskit.providers.aer**\n",
        "\n",
        "It is a submodule of Qiskit that facilitates the management and integration of providers. This submodule enables Qiskit to interact with various service providers (e.g., simulation providers, real quantum computer providers).\n",
        "\n",
        "Essentially, the qiskit.providers submodule provides the following functions:\n",
        "\n",
        "* **Provider Management:** Manages providers to access real or simulation quantum computers. This allows users to access different providers using a single interface.\n",
        "\n",
        "* **Interface Provision:** Provides an interface between different services offered by different providers. This allows users to access different providers using the same Qiskit API.\n",
        "\n",
        "* **Backend Integration:** Provides backend integration to interact with different providers. This allows users to access and manage operations across different providers using a single interface through Qiskit.\n",
        "\n",
        "The qiskit.providers submodule contributes to Qiskit's flexible and modular architecture, facilitating seamless transitions between different providers. This enables users to obtain the best services from different providers and choose solutions that meet their needs."
      ],
      "metadata": {
        "id": "RGNB0ptJavcb"
      }
    },
    {
      "cell_type": "markdown",
      "source": [
        "Regardless of which quantum simulator or device we choose, we follow these steps to execute a circuit:\n",
        "\n",
        "1. **Choose a Provider (BasicAer, Aer, or a quantum device provider):** These providers help you obtain backend objects that allow you to run your circuits on a quantum simulator or device.\n",
        "\n",
        "2. **Obtain a reference to the backend from your chosen provider:** A backend acts as a bridge between Qiskit and the hardware or simulator where your circuits will be executed.\n",
        "\n",
        "3. **Run your circuit on the selected backend:** This provides you with an object representing the process of running your circuit, either on a simulator or a device.\n",
        "\n",
        "4. **Interact with the process, check its status, and retrieve results once it's completed:** This way, you can monitor the status of your circuit and evaluate the results."
      ],
      "metadata": {
        "id": "DpT2jksEa2sb"
      }
    },
    {
      "cell_type": "markdown",
      "source": [
        "**Important!**\n",
        "\n",
        "---------------------------\n",
        "\n",
        "There is an important point here.\n",
        "The version of Qiskit we are using in this study is 1.0.2, and only Qiskit Aer will be examined in this section. Other simulators cannot be used due to the updated version.\n",
        "\n",
        "The reason for mentioning this is to be able to observe and understand the development of Qiskit, and to be able to select a compatible simulator if we are working with an older version of Qiskit.\n",
        "\n",
        "--------------------\n",
        "\n"
      ],
      "metadata": {
        "id": "VNfU0C8Oa7Pr"
      }
    },
    {
      "cell_type": "markdown",
      "source": [
        "# 2.1. Usage Aer Simulator"
      ],
      "metadata": {
        "id": "poBF-L1kbKCr"
      }
    },
    {
      "cell_type": "markdown",
      "source": [
        "The version of Qiskit used in this study is version 1.0.2. In this version, the Aer component provides various simulators used to simulate quantum circuits on classical computers. These simulators can simulate different scenarios and situations encountered in quantum computing, making them a valuable tool for researchers and developers in developing and testing quantum algorithms and circuits.\n",
        "\n",
        "**Here are detailed descriptions of these simulators and their features:**\n",
        "\n",
        "The Qiskit Aer simulator is an open-source quantum computer simulation tool developed by IBM. Due to the complex nature and limited accessibility of quantum computers, researchers and developers often use simulators to test their algorithms and quantum circuits. In response to this need, Qiskit Aer provides high-performance simulation solutions. By offering realistic simulations, including noise models, it facilitates the development and testing of quantum algorithms and applications."
      ],
      "metadata": {
        "id": "mrZD4aGsdtyb"
      }
    },
    {
      "cell_type": "markdown",
      "source": [
        "**When we look at its fundamental features:**\n",
        "\n",
        "**High-Performance Simulation:** Qiskit Aer can quickly simulate quantum circuits using modern hardware, including multi-core processors and GPUs.\n",
        "\n",
        "**Various Simulation Types:** It supports various simulation types such as state vector, density matrix, fixed sampling, and noise modeling. This allows users to meet different needs.\n",
        "\n",
        "**Noise Modeling:** The ability to mimic the noise characteristics of real quantum computers is one of Aer's strongest features. Users can simulate noise types such as qubit decay, depolarization, and cross-talk."
      ],
      "metadata": {
        "id": "z-eNGQUwe5qD"
      }
    },
    {
      "cell_type": "markdown",
      "source": [
        "**Usage Scenarios**\n",
        "\n",
        "**Algorithm Testing and Development:** For researchers developing new quantum algorithms, Aer is a valuable tool for verifying theoretical results and exploring potential applications.\n",
        "\n",
        "**Education and Training:** For students learning the fundamentals of quantum computing, Aer provides a practical way to understand how a real quantum computer operates.\n",
        "\n",
        "**Research on Noise-Tolerant Quantum Computing:** Noise modeling features are crucial for developing noise-resistant quantum algorithms and error correction codes.\n",
        "\n"
      ],
      "metadata": {
        "id": "xqTQYj6koSwQ"
      }
    },
    {
      "cell_type": "markdown",
      "source": [
        "**Teknik Detaylar**\n",
        "\n",
        "**Gelişmiş Optimizasyonlar:** Aer, kuantum devrelerinin simülasyonu sırasında hafıza kullanımını ve hesaplama süresini azaltmak için çeşitli optimizasyon teknikleri kullanır.\n",
        "\n",
        "**Esnek API:** Qiskit Aer, Python tabanlı Qiskit SDK'sının bir parçası olarak kolay entegrasyon ve kullanım sunar. Qiskit ile entegre şekilde çalışır ve Qiskit'in kuantum devre tanımlama araçları ile uyumludur."
      ],
      "metadata": {
        "id": "IbpjrAWqohPZ"
      }
    },
    {
      "cell_type": "markdown",
      "source": [
        "**Performans ve Ölçeklenebilirlik**\n",
        "\n",
        "**Büyük Ölçekli Simülasyonlar:** Aer, yüzlerce qubit içeren büyük ölçekli kuantum devrelerini simüle edebilme kapasitesine sahiptir. Bu, özellikle karmaşık kuantum algoritmaları ve protokolleri üzerinde çalışanlar için önemlidir.\n",
        "\n",
        "**Optimizasyon ve Hız:** Gelişmiş optimizasyon algoritmaları sayesinde, Aer, hesaplama kaynaklarını verimli bir şekilde kullanır ve büyük kuantum devrelerinin simülasyonunu hızlandırır.\n",
        "\n"
      ],
      "metadata": {
        "id": "NBOr3NnvomCR"
      }
    },
    {
      "cell_type": "markdown",
      "source": [
        "**Now let's delve a bit deeper into this simulator.**"
      ],
      "metadata": {
        "id": "5lC5HoRfouww"
      }
    },
    {
      "cell_type": "code",
      "source": [
        "#1.\n",
        "pip install qiskit-aer"
      ],
      "metadata": {
        "colab": {
          "base_uri": "https://localhost:8080/"
        },
        "id": "ASUC9eofo2Nz",
        "outputId": "4761eb3f-3c93-477d-ae01-6e2c18c3a0ff"
      },
      "execution_count": 2,
      "outputs": [
        {
          "output_type": "stream",
          "name": "stdout",
          "text": [
            "Collecting qiskit-aer\n",
            "  Downloading qiskit_aer-0.13.3-cp310-cp310-manylinux_2_17_x86_64.manylinux2014_x86_64.whl (12.3 MB)\n",
            "\u001b[2K     \u001b[90m━━━━━━━━━━━━━━━━━━━━━━━━━━━━━━━━━━━━━━━━\u001b[0m \u001b[32m12.3/12.3 MB\u001b[0m \u001b[31m22.2 MB/s\u001b[0m eta \u001b[36m0:00:00\u001b[0m\n",
            "\u001b[?25hCollecting qiskit>=0.45.0 (from qiskit-aer)\n",
            "  Downloading qiskit-1.0.2-cp38-abi3-manylinux_2_17_x86_64.manylinux2014_x86_64.whl (5.6 MB)\n",
            "\u001b[2K     \u001b[90m━━━━━━━━━━━━━━━━━━━━━━━━━━━━━━━━━━━━━━━━\u001b[0m \u001b[32m5.6/5.6 MB\u001b[0m \u001b[31m34.5 MB/s\u001b[0m eta \u001b[36m0:00:00\u001b[0m\n",
            "\u001b[?25hRequirement already satisfied: numpy>=1.16.3 in /usr/local/lib/python3.10/dist-packages (from qiskit-aer) (1.25.2)\n",
            "Requirement already satisfied: scipy>=1.0 in /usr/local/lib/python3.10/dist-packages (from qiskit-aer) (1.11.4)\n",
            "Requirement already satisfied: psutil>=5 in /usr/local/lib/python3.10/dist-packages (from qiskit-aer) (5.9.5)\n",
            "Collecting rustworkx>=0.14.0 (from qiskit>=0.45.0->qiskit-aer)\n",
            "  Downloading rustworkx-0.14.2-cp310-cp310-manylinux_2_17_x86_64.manylinux2014_x86_64.whl (2.1 MB)\n",
            "\u001b[2K     \u001b[90m━━━━━━━━━━━━━━━━━━━━━━━━━━━━━━━━━━━━━━━━\u001b[0m \u001b[32m2.1/2.1 MB\u001b[0m \u001b[31m43.2 MB/s\u001b[0m eta \u001b[36m0:00:00\u001b[0m\n",
            "\u001b[?25hRequirement already satisfied: sympy>=1.3 in /usr/local/lib/python3.10/dist-packages (from qiskit>=0.45.0->qiskit-aer) (1.12)\n",
            "Collecting dill>=0.3 (from qiskit>=0.45.0->qiskit-aer)\n",
            "  Downloading dill-0.3.8-py3-none-any.whl (116 kB)\n",
            "\u001b[2K     \u001b[90m━━━━━━━━━━━━━━━━━━━━━━━━━━━━━━━━━━━━━━━━\u001b[0m \u001b[32m116.3/116.3 kB\u001b[0m \u001b[31m10.4 MB/s\u001b[0m eta \u001b[36m0:00:00\u001b[0m\n",
            "\u001b[?25hRequirement already satisfied: python-dateutil>=2.8.0 in /usr/local/lib/python3.10/dist-packages (from qiskit>=0.45.0->qiskit-aer) (2.8.2)\n",
            "Collecting stevedore>=3.0.0 (from qiskit>=0.45.0->qiskit-aer)\n",
            "  Downloading stevedore-5.2.0-py3-none-any.whl (49 kB)\n",
            "\u001b[2K     \u001b[90m━━━━━━━━━━━━━━━━━━━━━━━━━━━━━━━━━━━━━━━━\u001b[0m \u001b[32m49.7/49.7 kB\u001b[0m \u001b[31m4.2 MB/s\u001b[0m eta \u001b[36m0:00:00\u001b[0m\n",
            "\u001b[?25hRequirement already satisfied: typing-extensions in /usr/local/lib/python3.10/dist-packages (from qiskit>=0.45.0->qiskit-aer) (4.10.0)\n",
            "Collecting symengine>=0.11 (from qiskit>=0.45.0->qiskit-aer)\n",
            "  Downloading symengine-0.11.0-cp310-cp310-manylinux_2_12_x86_64.manylinux2010_x86_64.whl (39.4 MB)\n",
            "\u001b[2K     \u001b[90m━━━━━━━━━━━━━━━━━━━━━━━━━━━━━━━━━━━━━━━━\u001b[0m \u001b[32m39.4/39.4 MB\u001b[0m \u001b[31m9.9 MB/s\u001b[0m eta \u001b[36m0:00:00\u001b[0m\n",
            "\u001b[?25hRequirement already satisfied: six>=1.5 in /usr/local/lib/python3.10/dist-packages (from python-dateutil>=2.8.0->qiskit>=0.45.0->qiskit-aer) (1.16.0)\n",
            "Collecting pbr!=2.1.0,>=2.0.0 (from stevedore>=3.0.0->qiskit>=0.45.0->qiskit-aer)\n",
            "  Downloading pbr-6.0.0-py2.py3-none-any.whl (107 kB)\n",
            "\u001b[2K     \u001b[90m━━━━━━━━━━━━━━━━━━━━━━━━━━━━━━━━━━━━━━━━\u001b[0m \u001b[32m107.5/107.5 kB\u001b[0m \u001b[31m8.6 MB/s\u001b[0m eta \u001b[36m0:00:00\u001b[0m\n",
            "\u001b[?25hRequirement already satisfied: mpmath>=0.19 in /usr/local/lib/python3.10/dist-packages (from sympy>=1.3->qiskit>=0.45.0->qiskit-aer) (1.3.0)\n",
            "Installing collected packages: symengine, rustworkx, pbr, dill, stevedore, qiskit, qiskit-aer\n",
            "Successfully installed dill-0.3.8 pbr-6.0.0 qiskit-1.0.2 qiskit-aer-0.13.3 rustworkx-0.14.2 stevedore-5.2.0 symengine-0.11.0\n"
          ]
        }
      ]
    },
    {
      "cell_type": "code",
      "source": [
        "#2.\n",
        "from qiskit_aer import Aer\n",
        "\n",
        "def print_table(backends):\n",
        "    print(\"| Simülatör Adı | Açıklama |\")\n",
        "    print(\"|---|---|\")\n",
        "    for backend in backends:\n",
        "        print(f\"| {backend.name} | {backend.description} |\")  # Doğru kullanım\n",
        "\n",
        "backends = Aer.backends()\n",
        "print_table(backends)\n"
      ],
      "metadata": {
        "colab": {
          "base_uri": "https://localhost:8080/"
        },
        "id": "LY4l-gYHo3nQ",
        "outputId": "4a21c521-5a50-40cd-be85-0045b48dee66"
      },
      "execution_count": 3,
      "outputs": [
        {
          "output_type": "stream",
          "name": "stdout",
          "text": [
            "| Simülatör Adı | Açıklama |\n",
            "|---|---|\n",
            "| aer_simulator | A C++ QasmQobj simulator with noise |\n",
            "| aer_simulator | A C++ QasmQobj simulator with noise |\n",
            "| aer_simulator | A C++ QasmQobj simulator with noise |\n",
            "| aer_simulator | A C++ QasmQobj simulator with noise |\n",
            "| aer_simulator | A C++ QasmQobj simulator with noise |\n",
            "| aer_simulator | A C++ QasmQobj simulator with noise |\n",
            "| aer_simulator | A C++ QasmQobj simulator with noise |\n",
            "| aer_simulator | A C++ QasmQobj simulator with noise |\n",
            "| qasm_simulator | A C++ QasmQobj simulator with noise |\n",
            "| statevector_simulator | A C++ statevector circuit simulator |\n",
            "| unitary_simulator | A C++ unitary circuit simulator |\n"
          ]
        }
      ]
    },
    {
      "cell_type": "markdown",
      "source": [
        "**Now let's discuss the output above:**\n",
        "\n",
        "* **aer_simulator:** This appears to be a general type of simulator represented by \"aer_simulator\" with numerous inputs. This simulator can simulate Qasm (Quantum Assembly Language) programs and mimic more realistic quantum computing environments by adding noise models. It seems that this simulator is listed multiple times, which typically does not represent different configurations or examples of the same simulator; there might be an iteration or printing error depending on how the list was generated.\n",
        "\n",
        "* **qasm_simulator:** This seems to be another instance of the QasmQobj simulator. The description \"A C++ QasmQobj simulator with noise\" indicates that this simulator can also simulate quantum programs in Qasm format and account for noise. It could be the same simulator as the general \"aer_simulator\" entries, but the difference in name suggests there might be customizations in usage or configuration.\n",
        "\n",
        "* **statevector_simulator:** This simulator simulates the state vector of a quantum circuit. The state vector contains coefficients of all possible states of a quantum system in superposition, and this simulator is used to compute the results of quantum circuits in terms of full quantum mechanics.\n",
        "\n",
        "* **unitary_simulator:** This simulator simulates the unitary matrix of a quantum circuit. The unitary matrix is the mathematical representation of combinations of quantum gates and operations. This simulator is particularly useful for theoretical analyses of quantum algorithms and operations."
      ],
      "metadata": {
        "id": "oznHBO50pI4x"
      }
    },
    {
      "cell_type": "markdown",
      "source": [
        "Now let's discuss how this simulator can be used and what it can do.\n",
        "\n",
        "* Before we start, it should be noted that the AerSimulator Backend has a highly flexible structure and offers many different simulation methods; by default, it is automatic. The automatic simulation method allows the simulation method to be automatically selected based on the circuit and noise model.\n",
        "\n",
        "**Let's now create an example that explores how the simulation can be used.**"
      ],
      "metadata": {
        "id": "FDb4Q0LcpN0j"
      }
    },
    {
      "cell_type": "code",
      "source": [
        "#1.\n",
        "from qiskit import QuantumCircuit,transpile\n",
        "from qiskit_aer import Aer\n",
        "from qiskit.visualization import plot_histogram\n",
        "\n",
        "#2.\n",
        "qc = QuantumCircuit(2)\n",
        "qc.h(0)\n",
        "qc.cx(0, 1)\n",
        "qc.measure_all()"
      ],
      "metadata": {
        "id": "tABGuXL1pPkP"
      },
      "execution_count": 4,
      "outputs": []
    },
    {
      "cell_type": "markdown",
      "source": [
        "After importing the necessary libraries:\n",
        "\n",
        "* We created a two-qubit quantum circuit. Let's note that we did not create classical bits.\n",
        "* Then, we applied a Hadamard gate to put the first qubit into a superposition.\n",
        "* Next, we applied a C-NOT gate. This means if the first qubit is 1, it flips the second qubit.\n",
        "* Afterwards, we enabled measurements for all qubits in the circuit. This allows us to observe the states of these qubits and transfer them to a classical computer."
      ],
      "metadata": {
        "id": "5OSUcn1-peNh"
      }
    },
    {
      "cell_type": "code",
      "source": [
        "#3.\n",
        "backend = Aer.get_backend(\"aer_simulator\")\n",
        "\n",
        "#4.\n",
        "tqc = transpile(qc, backend)\n",
        "job = backend.run(tqc, shots=1000)\n",
        "result = job.result()\n",
        "counts = result.get_counts(tqc)\n",
        "print(counts)"
      ],
      "metadata": {
        "colab": {
          "base_uri": "https://localhost:8080/"
        },
        "id": "2-h2BMPOpeyd",
        "outputId": "78835637-d977-479a-af5e-c99f19bc932d"
      },
      "execution_count": 5,
      "outputs": [
        {
          "output_type": "stream",
          "name": "stdout",
          "text": [
            "{'00': 523, '11': 477}\n"
          ]
        }
      ]
    },
    {
      "cell_type": "code",
      "source": [
        "#5.\n",
        "counts = result.get_counts(qc)\n",
        "plot_histogram(counts)"
      ],
      "metadata": {
        "colab": {
          "base_uri": "https://localhost:8080/",
          "height": 461
        },
        "id": "dWQsD8-XpkHG",
        "outputId": "af7a7b4e-6ca0-4338-bd9b-717a9b524385"
      },
      "execution_count": 6,
      "outputs": [
        {
          "output_type": "execute_result",
          "data": {
            "text/plain": [
              "<Figure size 700x500 with 1 Axes>"
            ],
            "image/png": "[encoded data removed]"
          },
          "metadata": {},
          "execution_count": 6
        }
      ]
    },
    {
      "cell_type": "markdown",
      "source": [
        "**2.1.1. AerSimulator -- Using Statevector**"
      ],
      "metadata": {
        "id": "O0Bte2Ctpo65"
      }
    },
    {
      "cell_type": "markdown",
      "source": [
        "Now let's consider the usage of the Aer Simulator in the context of the Statevector, but before that, let's briefly discuss what a Statevector is.\n",
        "\n",
        "* The **\"State vector\"** simulator is particularly used to simulate the exact state of quantum circuits. This simulator represents the quantum state of qubits in a quantum circuit using a mathematical vector. Thus, it allows for the precise calculation of the effect of every operation performed on the qubit states.\n",
        "\n",
        "Now let's examine an example where the simulator calculates and holds the values as Statevector."
      ],
      "metadata": {
        "id": "luKnNMUPpyfZ"
      }
    },
    {
      "cell_type": "code",
      "source": [
        "#1.\n",
        "qc = QuantumCircuit(2)\n",
        "qc.h(0)\n",
        "qc.cx(0, 1)\n",
        "\n",
        "#2.\n",
        "backend = Aer.get_backend(\"aer_simulator\")\n",
        "qc.save_statevector()\n",
        "\n",
        "#3.\n",
        "tqc = transpile(qc, backend)\n",
        "job = backend.run(tqc)\n",
        "result = job.result()\n",
        "statevector = result.get_statevector(tqc, 4)\n",
        "print(statevector)\n",
        "\n",
        "#4.\n",
        "counts = result.get_counts(qc)\n",
        "plot_histogram(counts)"
      ],
      "metadata": {
        "colab": {
          "base_uri": "https://localhost:8080/",
          "height": 496
        },
        "id": "ausIvRcjpy6A",
        "outputId": "c904e975-0dcf-4759-b3c9-9c8ac62118c7"
      },
      "execution_count": 7,
      "outputs": [
        {
          "output_type": "stream",
          "name": "stdout",
          "text": [
            "Statevector([0.7071+0.j, 0.    +0.j, 0.    +0.j, 0.7071+0.j],\n",
            "            dims=(2, 2))\n"
          ]
        },
        {
          "output_type": "execute_result",
          "data": {
            "text/plain": [
              "<Figure size 700x500 with 1 Axes>"
            ],
            "image/png": "[encoded data removed]"
          },
          "metadata": {},
          "execution_count": 7
        }
      ]
    },
    {
      "cell_type": "markdown",
      "source": [
        "**The output we obtained above is as follows:**\n",
        "\n",
        "      Statevector([0.7071+0.j, 0.    +0.j, 0.    +0.j, 0.7071+0.j], dims=(2, 2))"
      ],
      "metadata": {
        "id": "6_40SaFMp9TB"
      }
    },
    {
      "cell_type": "markdown",
      "source": [
        "Now let's interpret this output a bit:\n",
        "\n",
        "* Each element represents the probability amplitude of the corresponding state. These states correspond to the states of a specific qubit combination in the quantum circuit.\n",
        "\n",
        "* For example, the expression [0.7071+0.j, 0. +0.j, 0. +0.j, 0.7071+0.j] represents the amplitudes of the states |00⟩, |01⟩, |10⟩, and |11⟩, respectively.\n",
        "\n",
        "* In this case, the amplitudes that are 0.7071 (or approximately √2/2) correspond to the superposition states of |00⟩ and |11⟩.\n",
        "\n",
        "* The other amplitudes are zero because no input has been given to the circuit, and only the Hadamard gate has been applied. Therefore, non-zero amplitudes correspond only to the superposition states."
      ],
      "metadata": {
        "id": "GFgxYoynqXFq"
      }
    },
    {
      "cell_type": "markdown",
      "source": [
        "**2.1.2. AerSimulator --Unitary Usage**\n",
        "\n",
        "Now let's delve into the usage of the Aer Simulator under the scope of Unitary, but before that, let's briefly discuss what Unitary is.\n",
        "\n",
        "* **In essence, the Unitary Simulator** is used to simulate the unitary matrices generated by quantum circuits. This is particularly important for understanding the accuracy and functionality of quantum circuits.\n",
        "\n",
        "* **The Unitary Simulator** represents the entire evolution of a quantum circuit as a unitary matrix. This means that each quantum gate in the quantum circuit is represented as a unitary operator, and the result of applying these operators sequentially yields the final unitary operator of the circuit. This simulation method is very useful for observing how quantum circuits behave in full accordance with quantum mechanics.\n",
        "\n",
        "* **Unitary matrices** preserve the properties of quantum states such as superposition and entanglement, which are fundamental features of quantum mechanics. Therefore, simulations conducted using the Unitary Simulator can provide in-depth insights into how quantum computers operate."
      ],
      "metadata": {
        "id": "cWup9CldqgSB"
      }
    },
    {
      "cell_type": "code",
      "source": [
        "#1.\n",
        "\n",
        "qc = QuantumCircuit(2)\n",
        "qc.h(0)\n",
        "qc.cx(0, 1)\n",
        "\n",
        "#2.\n",
        "\n",
        "backend = Aer.get_backend(\"aer_simulator\")\n",
        "qc.save_unitary()\n",
        "\n",
        "#3.\n",
        "\n",
        "tqc = transpile(qc, backend)\n",
        "job = backend.run(tqc)\n",
        "result = job.result()\n",
        "unitary = result.get_unitary(qc, 4)\n",
        "print(unitary)"
      ],
      "metadata": {
        "colab": {
          "base_uri": "https://localhost:8080/"
        },
        "id": "2NWC_kzYqjWy",
        "outputId": "7e5bf8de-fd7c-4d8f-fe7a-8ecc422cec2b"
      },
      "execution_count": 8,
      "outputs": [
        {
          "output_type": "stream",
          "name": "stdout",
          "text": [
            "Operator([[ 0.7071+0.j,  0.7071-0.j,  0.    +0.j,  0.    +0.j],\n",
            "          [ 0.    +0.j,  0.    +0.j,  0.7071+0.j, -0.7071+0.j],\n",
            "          [ 0.    +0.j,  0.    +0.j,  0.7071+0.j,  0.7071-0.j],\n",
            "          [ 0.7071+0.j, -0.7071+0.j,  0.    +0.j,  0.    +0.j]],\n",
            "         input_dims=(2, 2), output_dims=(2, 2))\n"
          ]
        }
      ]
    },
    {
      "cell_type": "markdown",
      "source": [
        "**2.1.3. AerSimulator --Additional Simulation Methods**\n",
        "\n",
        "Now let's discuss the usage of the Aer Simulator under the scope of additional simulation methods.\n",
        "\n",
        "Up to this point, we've seen different ways to run a circuit using the AerSimulator backend and obtain results. These results could be measurement outcomes, statevectors, or unitary matrices. The AerSimulator can automatically choose different simulation methods based on the characteristics of the circuit and the noise model. However, users can also specify the simulation method they want. This allows users to employ different simulation strategies according to their needs and preferences.\n",
        "\n",
        "Here, we'll discuss methods for developing different simulation strategies based on requirements and preferences."
      ],
      "metadata": {
        "id": "9P6ogEqvqpNx"
      }
    },
    {
      "cell_type": "markdown",
      "source": [
        "**1. set_options() Method:**\n",
        "\n",
        "The **set_options() function** is a method used to specify certain settings or options for a simulation. It's commonly used when interacting with a simulator backend to adjust simulation parameters. In other words, it allows us to update the AerSimulator by passing specific keywords as arguments.\n",
        "\n",
        "**Let's now examine an example below where we update the AerSimulator backend to use the density matrix simulation method.**\n",
        "\n"
      ],
      "metadata": {
        "id": "inJbtofUqyoY"
      }
    },
    {
      "cell_type": "code",
      "source": [
        "#1.\n",
        "from qiskit_aer import Aer\n",
        "#2.\n",
        "backend = Aer.get_backend(\"aer_simulator\")\n",
        "backend.set_options(method=\"density_matrix\")"
      ],
      "metadata": {
        "id": "8Wa7VNrVq3NZ"
      },
      "execution_count": 9,
      "outputs": []
    },
    {
      "cell_type": "markdown",
      "source": [
        "**2. Using a Predefined Simulation Method**\n",
        "\n",
        "In other words, each simulation method in the Aer library is represented by a specific character string, which can be passed to the `get_backend()` method to be utilized. These character strings correspond to various simulation methods available in the Aer library. For instance, for the density matrix simulation method, this character string is **\"aer_simulator_density_matrix\"**. These character strings can be used to specify a particular simulation method and are passed to the `get_backend()` method to obtain an appropriate AerSimulator backend.\n",
        "\n",
        "The table below lists the methods that can be used for AerSimulator:\n",
        "\n",
        "\n",
        "\n",
        "| Name                  | Describe                                                                                                                                  |\n",
        "|-----------------------|-------------------------------------------------------------------------------------------------------------------------------------------|\n",
        "| automatic             | Devre ve gürültü modeline dayalı olarak otomatik olarak simülasyon yöntemini seçen varsayılan simülasyon yöntemi.                         |\n",
        "| density_matrix        | Gürültülü devrelerden ölçümleri son devrelerde gerçekleştiren yoğunluk matrisi simülasyonu.                                               |\n",
        "| extended_stabilizer   | Bir sıralı-stabilizer durumuna dayalı olarak Clifford + T devreleri için yaklaşık bir simülasyon.                                          |\n",
        "| matrix_product_state  | Durumu temsil etmek için bir matris çarpımı durum (MPS) temsili kullanan bir tensör ağı statevector simülatörü.                            |\n",
        "| stabilizer            | Tüm hataların Clifford hataları olduğu varsayılan gürültülü Clifford devrelerini simüle edebilen verimli bir Clifford stabilizer durumu simülatörü. |\n",
        "| statevector           | Tüm ölçümleri devrelerin sonunda gerçekleştirebilen ideal devrelerden ölçüm sonuçları örnekleme yapabilen statevector simülasyonu.             |\n",
        "| superop               | Bir ideal veya gürültülü devrenin superoperator matris simülasyonu. Devrenin kendisinin süperoperatör matrisini simüle eder.                 |\n",
        "| unitary               | Bir ideal devre için birim matris simülasyonu. Devrenin kendisinin birim matrisini simüle eder.                                            |\n",
        "\n"
      ],
      "metadata": {
        "id": "pYz8GX2Zq-g_"
      }
    },
    {
      "cell_type": "markdown",
      "source": [
        "**Using a Predefined Simulation Method**\n",
        "\n",
        "Before using the table above, remember to write the prefix **aer_simulator_**followed by the expressions listed in the table."
      ],
      "metadata": {
        "id": "O6upsz6HsMSg"
      }
    },
    {
      "cell_type": "code",
      "source": [
        "#1.\n",
        "from qiskit_aer import Aer\n",
        "#2.\n",
        "backend = Aer.get_backend(\"aer_simulator_stabilizer\")"
      ],
      "metadata": {
        "id": "YVwg4uRksP3Y"
      },
      "execution_count": 10,
      "outputs": []
    },
    {
      "cell_type": "markdown",
      "source": [
        "**Some of the simulation methods listed in the table above have the capability to simulate noisy quantum circuits.**\n",
        "\n",
        "AerSimulator allows for the provision of a noise model, which represents the error characteristics of either a real quantum device or an imaginary quantum device. In other words, AerSimulator can simulate real-world errors or the error characteristics of a specific hypothetical device. This enables simulation results to be closer to the behavior of real devices.\n",
        "\n",
        "**Now let's delve a bit deeper into this and explore further.**"
      ],
      "metadata": {
        "id": "wFEfvJFVsbN4"
      }
    },
    {
      "cell_type": "markdown",
      "source": [
        "**a) Working with a Hypothetical Error Model in AerSimulator**\n",
        "\n",
        "AerSimulator allows for the provision of a noise model, representing the error characteristics of either a real quantum device or an imaginary quantum device. In other words, AerSimulator can simulate real-world errors or the error characteristics of a specific hypothetical device. This enables simulation results to be closer to the behavior of real devices.\n",
        "\n",
        "**Now, let's illustrate this with an example.**"
      ],
      "metadata": {
        "id": "U2LVFG2AsyPh"
      }
    },
    {
      "cell_type": "code",
      "source": [
        "#1.\n",
        "from qiskit import QuantumCircuit, transpile\n",
        "from qiskit_aer.noise import (NoiseModel,depolarizing_error, )\n",
        "#2.\n",
        "from qiskit_aer import Aer"
      ],
      "metadata": {
        "id": "EC6RoreatIak"
      },
      "execution_count": 13,
      "outputs": []
    },
    {
      "cell_type": "code",
      "source": [
        "#3.\n",
        "err_1 = depolarizing_error(0.95, 1)\n",
        "err_2 = depolarizing_error(0.01, 2)\n",
        "noise_model = NoiseModel()\n",
        "noise_model.add_all_qubit_quantum_error(err_1,\n",
        "['u1', 'u2', 'u3'])\n",
        "noise_model.add_all_qubit_quantum_error(err_2,\n",
        "['cx'])"
      ],
      "metadata": {
        "id": "R9Dzy8mstLhx"
      },
      "execution_count": 14,
      "outputs": []
    },
    {
      "cell_type": "markdown",
      "source": [
        "Let's explain this code a bit.\n",
        "\n",
        "* **depolarizing_error(p, num_qubits):**\n",
        "\n",
        "This function creates an error object with a specific depolarization rate \\( p \\). **\\( num\\_qubits \\) specifies the number of qubits on which the error object will be applied.** This function generates a type of error called depolarization error, which randomly scrambles the superposition and phase information on a qubit.\n",
        "\n",
        "* **noise_model = NoiseModel():**\n",
        "\n",
        "This line creates a NoiseModel object. This object is used to define the noise to be added to a quantum circuit.\n",
        "\n",
        "* **noise_model.add_all_qubit_quantum_error(err_1, ['u1', 'u2', 'u3']):**\n",
        "\n",
        "This line adds a specific error object (here err_1) and a list of defined errors for specific gates to the noise_model object. 'u1', 'u2', and 'u3' gates are single-qubit quantum gates, and these errors will be applied to these gates.\n",
        "\n",
        "* **noise_model.add_all_qubit_quantum_error(err_2, ['cx']):**\n",
        "\n",
        "This line adds another error object defined for two-qubit gates (here err_2) to the noise_model object. 'cx' is an abbreviation for the CNOT (controlled-NOT) gate, and this error will be applied to the CNOT gate."
      ],
      "metadata": {
        "id": "p4eaFryitazy"
      }
    },
    {
      "cell_type": "code",
      "source": [
        "#4.\n",
        "qc = QuantumCircuit(2)\n",
        "qc.h(0)\n",
        "qc.cx(0, 1)\n",
        "qc.measure_all()\n",
        "\n",
        "#5.\n",
        "backend = Aer.get_backend(\"aer_simulator\")\n",
        "backend.set_options(noise_model=noise_model)\n",
        "tqc = transpile(qc, backend)\n",
        "job = backend.run(tqc, shots=1000)\n",
        "result = job.result()\n",
        "counts = result.get_counts(tqc)\n",
        "print(counts)"
      ],
      "metadata": {
        "colab": {
          "base_uri": "https://localhost:8080/"
        },
        "id": "36zjtYaCtbQp",
        "outputId": "0fdd51ee-be27-469f-a38d-0a3dbd342704"
      },
      "execution_count": 15,
      "outputs": [
        {
          "output_type": "stream",
          "name": "stdout",
          "text": [
            "{'01': 1, '11': 497, '10': 3, '00': 499}\n"
          ]
        }
      ]
    },
    {
      "cell_type": "markdown",
      "source": [
        "Let's discuss what we did briefly:\n",
        "\n",
        "1. We imported the necessary libraries.\n",
        "2. We defined a noise model. In this example, we created a depolarizing error model. This error model simulates specific errors that could occur in a quantum computer. Two different errors are defined: the first error creates a high depolarizing error in single-qubit capacity, while the second error creates a lower depolarizing error in two-qubit capacity. These errors are defined for 'u1', 'u2', 'u3' (single-qubit gates) and 'cx' (CNOT gates for two-qubit capacity). The created error models are added to the noise model.\n",
        "3. Then, we created a quantum circuit and put it into a superposition with the Hadamard Gate.\n",
        "4. We set up the simulation and ran it.\n",
        "\n",
        "**In essence, all the operations we performed were just that. So what did we obtain?**"
      ],
      "metadata": {
        "id": "aUtDauiWtpIZ"
      }
    },
    {
      "cell_type": "markdown",
      "source": [
        "The output represents the results obtained from simulating a quantum circuit under a specific noise model. The output includes the number of occurrences of each different state (bit strings) measured in the circuit.\n",
        "\n",
        "Examples from the output:\n",
        "\n",
        "- '01': 2: In two measurements, the first qubit was measured as 0 and the second qubit as 1.\n",
        "- '10': 1: In one measurement, the first qubit was measured as 1 and the second qubit as 0.\n",
        "- '00': 504: In 504 measurements, both qubits were measured as 0.\n",
        "- '11': 493: In 493 measurements, both qubits were measured as 1.\n",
        "\n",
        "These results show the statistical distribution of the measured states when the quantum circuit is run under a specific noise model. Since the noise model, particularly simulating depolarizing errors, can cause deviations from the expected outcomes, certain states may appear with different probabilities. The results may vary due to the influence of the noise model."
      ],
      "metadata": {
        "id": "suJigkKat7WC"
      }
    }
  ]
}