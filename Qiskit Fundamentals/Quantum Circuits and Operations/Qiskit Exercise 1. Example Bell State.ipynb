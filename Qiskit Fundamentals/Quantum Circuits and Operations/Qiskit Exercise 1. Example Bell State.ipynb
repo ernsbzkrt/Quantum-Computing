{
  "nbformat": 4,
  "nbformat_minor": 0,
  "metadata": {
    "colab": {
      "provenance": []
    },
    "kernelspec": {
      "name": "python3",
      "display_name": "Python 3"
    },
    "language_info": {
      "name": "python"
    }
  },
  "cells": [
    {
      "cell_type": "markdown",
      "source": [
        "Quantum gates are the fundamental building blocks of quantum computers and are used to manipulate the states of qubits (quantum bits). These gates perform essential functions that enable quantum computers to be significantly faster  more powerful compared to classical computers.\n",
        "\n",
        "Here, we will examine examples that can be solved in the field of Quantum Computing by focusing on basic quantum circuits and operations, which we will explore in three sections."
      ],
      "metadata": {
        "id": "YKiZ7cb3qO6a"
      }
    },
    {
      "cell_type": "markdown",
      "source": [
        "## Problem 1: Creating and Measuring Bell State\n",
        "\n",
        "In the theory section, we discussed what a Bell State is. Here, we will briefly discuss how to create the Bell State theoretically, and then we will code it.\n",
        "\n",
        "The Bell State can be created using two qubits as follows:\n",
        "\n",
        "* Apply a Hadamard Gate (H) to the first qubit to create a superposition state,\n",
        "* Apply a CNOT (controlled-Not) gate between the first and second qubits to create entanglement.\n",
        "\n",
        "When these operations are applied, the resulting state should be the Bell State formulated below:\n",
        "\n",
        "                    |Φ⁺⟩ = (1/√2)(|00⟩ + |11⟩)\n",
        "\n",
        "In this state, the measurement outcomes of the two qubits are correlated:\n",
        "* **If one is 0, the other will also be 0,**\n",
        "* **If one is 1, the other will also be 1.**"
      ],
      "metadata": {
        "id": "_3Zw47dK8geQ"
      }
    },
    {
      "cell_type": "markdown",
      "source": [
        "**Now let's code this state below.**\n"
      ],
      "metadata": {
        "id": "2YDoGXtH8qfX"
      }
    },
    {
      "cell_type": "code",
      "source": [
        "# 1 .\n",
        "from qiskit import QuantumCircuit, transpile\n",
        "from qiskit.visualization import plot_histogram\n",
        "from qiskit_aer import Aer"
      ],
      "metadata": {
        "id": "xzV0SJhA8s3P"
      },
      "execution_count": 4,
      "outputs": []
    },
    {
      "cell_type": "code",
      "source": [
        "# 2.\n",
        "qc = QuantumCircuit(2, 2)"
      ],
      "metadata": {
        "id": "jcZLuTjx8wxD"
      },
      "execution_count": 5,
      "outputs": []
    },
    {
      "cell_type": "markdown",
      "source": [
        "After adding the necessary libraries, we created the 2 qubits required for the Bell State above. Additionally, we created 2 classical bits to measure these 2 qubits."
      ],
      "metadata": {
        "id": "Cg_c9RN39LbG"
      }
    },
    {
      "cell_type": "code",
      "source": [
        "# 3.\n",
        "qc.h(0)"
      ],
      "metadata": {
        "colab": {
          "base_uri": "https://localhost:8080/"
        },
        "id": "vRtk9x7D9L6m",
        "outputId": "091c568d-75cc-40be-f903-d8d2cdf111f8"
      },
      "execution_count": 6,
      "outputs": [
        {
          "output_type": "execute_result",
          "data": {
            "text/plain": [
              "<qiskit.circuit.instructionset.InstructionSet at 0x7aff40161ae0>"
            ]
          },
          "metadata": {},
          "execution_count": 6
        }
      ]
    },
    {
      "cell_type": "markdown",
      "source": [
        "In this step, we applied the Hadamard Gate to the first qubit (the 0 parameter here represents the first qubit) and put the circuit into superposition."
      ],
      "metadata": {
        "id": "gMuCmOVj9OyG"
      }
    },
    {
      "cell_type": "code",
      "source": [
        "# 4.\n",
        "qc.cx(0, 1)"
      ],
      "metadata": {
        "colab": {
          "base_uri": "https://localhost:8080/"
        },
        "id": "tfgLReAO9Qbu",
        "outputId": "06dc7418-dc03-4d3a-b8df-7ea8041b8092"
      },
      "execution_count": 7,
      "outputs": [
        {
          "output_type": "execute_result",
          "data": {
            "text/plain": [
              "<qiskit.circuit.instructionset.InstructionSet at 0x7aff40162290>"
            ]
          },
          "metadata": {},
          "execution_count": 7
        }
      ]
    },
    {
      "cell_type": "markdown",
      "source": [
        "Here, we applied a CNOT gate between the first qubit and the second qubit. This allowed us to obtain the entanglement state in the circuit."
      ],
      "metadata": {
        "id": "e7HHtHcP9Vnu"
      }
    },
    {
      "cell_type": "code",
      "source": [
        "# 5.\n",
        "qc.measure([0, 1], [0, 1])"
      ],
      "metadata": {
        "colab": {
          "base_uri": "https://localhost:8080/"
        },
        "id": "RrpJaZj-9WE4",
        "outputId": "cc58a94f-cafa-4014-d5b4-4a259c0824a3"
      },
      "execution_count": 8,
      "outputs": [
        {
          "output_type": "execute_result",
          "data": {
            "text/plain": [
              "<qiskit.circuit.instructionset.InstructionSet at 0x7aff40162440>"
            ]
          },
          "metadata": {},
          "execution_count": 8
        }
      ]
    },
    {
      "cell_type": "markdown",
      "source": [
        "In the above step, the measurement process of qubits is carried out. There's an important aspect to discuss here:\n",
        "* [0,1]: Specifies the indices of the qubits to be measured. In our circuit, we had 2 qubits, and we used 0 and 1 since we wanted to measure these 2 qubits.\n",
        "* [0,1]: Specifies the indices of the classical bits where the measurement results will be stored.\n",
        "\n",
        "Through this measurement process, specific qubits in the quantum circuit are measured, and the results are recorded in the specified classical bits. Each qubit is recorded as a result among the classical bits, and these results can be utilized as the output of the quantum circuit or further analyzed."
      ],
      "metadata": {
        "id": "SirAMvCt9YDf"
      }
    },
    {
      "cell_type": "code",
      "source": [
        "# 6.\n",
        "simulator = Aer.get_backend('aer_simulator')\n",
        "compiled_circuit = transpile(qc, simulator)"
      ],
      "metadata": {
        "id": "R-pbTT129cbe"
      },
      "execution_count": 9,
      "outputs": []
    },
    {
      "cell_type": "markdown",
      "source": [
        "This code simulates a quantum circuit using Qiskit's Aer simulator. Firstly, we import the Aer simulator, which represents a simulator backend provided by Qiskit. Then, we use the `transpile` function to convert the quantum circuit named `qc` (a QuantumCircuit object) into a format suitable for the specified simulator. This ensures that the circuit is prepared in accordance with the features and limitations supported by the simulator."
      ],
      "metadata": {
        "id": "yxw4DXmb9g0O"
      }
    },
    {
      "cell_type": "code",
      "source": [
        "# 7.\n",
        "job = simulator.run(compiled_circuit, shots=1000)\n",
        "result = job.result()\n",
        "counts = result.get_counts(qc)"
      ],
      "metadata": {
        "id": "Lj9pa-o29iNY"
      },
      "execution_count": 10,
      "outputs": []
    },
    {
      "cell_type": "markdown",
      "source": [
        "Here, running the compiled quantum circuit on the **Aer simulator*** allows us to obtain results.\n",
        "The compiled quantum circuit;\n",
        "\n",
        "* executed with the parameter `shots=1000`, indicating that the circuit simulation will be performed 1000 times, ensuring that the circuit is run 1000 times repeatedly."
      ],
      "metadata": {
        "id": "iA2RTlqh9m8l"
      }
    },
    {
      "cell_type": "code",
      "source": [
        "# 8.\n",
        "plot_histogram(counts)"
      ],
      "metadata": {
        "colab": {
          "base_uri": "https://localhost:8080/",
          "height": 461
        },
        "id": "DE7oyxaL9vaG",
        "outputId": "dbfe7ebf-503a-4210-d565-cda15eac6529"
      },
      "execution_count": 11,
      "outputs": [
        {
          "output_type": "execute_result",
          "data": {
            "text/plain": [
              "<Figure size 700x500 with 1 Axes>"
            ],
            "image/png": "[encoded data removed]"
          },
          "metadata": {},
          "execution_count": 11
        }
      ]
    },
    {
      "cell_type": "markdown",
      "source": [
        "Here, the outcome of the operations performed above is visualized.\n",
        "\n",
        "Here;\n",
        "* The state \"00\" represents the qubit being in the state \"00\". In the example above, it is shown that out of 1000 simulations, the qubits were in this state 538 times, and in the state \"11\" 462 times."
      ],
      "metadata": {
        "id": "6u11oyLG94bG"
      }
    }
  ]
}