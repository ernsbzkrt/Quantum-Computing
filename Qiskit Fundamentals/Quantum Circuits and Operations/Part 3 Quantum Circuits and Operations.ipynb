{
  "nbformat": 4,
  "nbformat_minor": 0,
  "metadata": {
    "colab": {
      "provenance": []
    },
    "kernelspec": {
      "name": "python3",
      "display_name": "Python 3"
    },
    "language_info": {
      "name": "python"
    }
  },
  "cells": [
    {
      "cell_type": "markdown",
      "source": [
        "**1.3. Parameterized Quantum Circuits**\n",
        "-----------------------------------\n",
        "\n",
        "Before moving on to the next section, let's start by discussing what Parameterized Quantum Circuits are.\n",
        "\n",
        "- **A parameterized quantum circuit is a type of circuit used in quantum computers. In these circuits, the values required for a specific operation or gate are dynamically provided during the execution of the circuit. This means that when designing the circuit, specific numerical values are not assigned; instead, these values are determined during the execution of the circuit.**\n",
        "\n",
        "- These parameters can be used to modify the behavior of circuits or adapt to a specific problem. This allows the same circuit to model different states.\n",
        "\n",
        "- Parameterized quantum circuits are particularly useful when there is a need to generalize, implement, or optimize quantum algorithms. These circuits make quantum computing processes more flexible and adaptable, enabling the use of the same circuit in various algorithmic tasks.\n",
        "\n",
        "After the brief introduction, let's delve deeper into these circuits.\n",
        "\n",
        "As we know, **Parameterized Quantum Circuits** allow for the utilization of dynamically changing or runtime-determined values in quantum computing processes. This is especially important for generalizing or optimizing specific circuit structures.\n",
        "\n",
        "The Qiskit library provides **Parameter and ParameterVector classes** for creating such circuits.\n",
        "\n",
        "- The Parameter class represents a specific numerical value or a symbolic symbol. This can be used to define various parameters in quantum circuits. For example, an uncertainty parameter or a rotation angle.\n",
        "\n",
        "- The ParameterVector class represents an array of parameters. This allows for the grouping of similar parameters and facilitates the creation of more complex circuit structures.\n",
        "\n",
        "In quantum circuits, parameterized components do not have specific values assigned during circuit definition. Instead, these parameters are assigned values before the circuit is executed. This makes the circuits more flexible and allows for the use of the same circuit in various computation tasks."
      ],
      "metadata": {
        "id": "-62uN87vVAI2"
      }
    },
    {
      "cell_type": "markdown",
      "source": [
        "**1.3.1. Usage of the Parameter Class**\n",
        "\n",
        "Using parameters in quantum circuits allows for the values of specific operations or gates to be modified at runtime. This makes circuits more flexible and generalizable. In Qiskit, the Parameter class is used to represent such parameters.\n",
        "\n",
        "*Let's illustrate this situation with an example below:*"
      ],
      "metadata": {
        "id": "YrqhpFHMVGos"
      }
    },
    {
      "cell_type": "code",
      "source": [
        "#\n",
        "from qiskit import QuantumCircuit\n",
        "from qiskit.circuit import Parameter\n",
        "\n",
        "theta1 = Parameter(\"θ1\")\n",
        "qc = QuantumCircuit(1)\n",
        "qc.rx(theta1, 0)\n"
      ],
      "metadata": {
        "colab": {
          "base_uri": "https://localhost:8080/"
        },
        "id": "QPDmx9e6VBHK",
        "outputId": "c957e882-0d03-4c92-822c-a70e2779f3e5"
      },
      "execution_count": 2,
      "outputs": [
        {
          "output_type": "execute_result",
          "data": {
            "text/plain": [
              "<qiskit.circuit.instructionset.InstructionSet at 0x7c5736a28f70>"
            ]
          },
          "metadata": {},
          "execution_count": 2
        }
      ]
    },
    {
      "cell_type": "markdown",
      "source": [
        "Let's discuss the operations we did above a bit.\n",
        "\n",
        "**theta1 = Parameter(\"θ1\")**\n",
        "\n",
        "Here, we created a parameter named θ1 and stored this parameter in a variable called theta1.\n",
        "\n",
        "**qc = QuantumCircuit(1)**\n",
        "\n",
        "We created a quantum circuit with one qubit. In this example, there is only one qubit.\n",
        "\n",
        "**qc.rx(theta1, 0)**\n",
        "\n",
        "This adds an Rx (rotation around the X-axis) gate to the created circuit. The theta1 parameter is used to determine the rotation angle of this gate. The second argument, 0, indicates the index of the target qubit to which this gate will be applied. In this case, the gate is applied to the first (index 0) qubit.\n",
        "\n",
        "\n",
        "\n"
      ],
      "metadata": {
        "id": "iFR2MXDiVT7M"
      }
    },
    {
      "cell_type": "markdown",
      "source": [
        "**1.3.2** Using the ParameterVector Class**\n",
        "\n",
        "The ParameterVector class is used in Qiskit to represent a collection of parameters. This is a convenient method for creating and utilizing parameter groups instead of individual parameters. It is particularly useful when processing multiple parameters simultaneously or when defining multiple parameters with the same structure.\n",
        "\n",
        "For example, suppose there are three different phase gates in a circuit, each requiring parameterization with a different parameter. Instead of creating three separate parameters, we can gather these parameters in a collection using a ParameterVector. This makes the code more organized and readable."
      ],
      "metadata": {
        "id": "BZaccjlDWDld"
      }
    },
    {
      "cell_type": "code",
      "source": [
        "#\n",
        "from qiskit.circuit import QuantumCircuit,ParameterVector\n",
        "\n",
        "# Parametre vektörü oluştur\n",
        "params = ParameterVector('θ', 3) # Q adinda 3 Parametre iceriyor bu.\n",
        "\n",
        "# Kuantum devresi oluştur\n",
        "qc = QuantumCircuit(1)\n",
        "\n",
        "# Üç parametreli faz kapılarını uygula\n",
        "for i in range(3):\n",
        "    qc.p(params[i], 0)\n",
        "\n",
        "print(qc.draw())\n"
      ],
      "metadata": {
        "colab": {
          "base_uri": "https://localhost:8080/"
        },
        "id": "PX4tqQvJWJhb",
        "outputId": "95393a70-7801-4d82-aff2-eaa548bbd944"
      },
      "execution_count": 3,
      "outputs": [
        {
          "output_type": "stream",
          "name": "stdout",
          "text": [
            "   ┌─────────┐┌─────────┐┌─────────┐\n",
            "q: ┤ P(θ[0]) ├┤ P(θ[1]) ├┤ P(θ[2]) ├\n",
            "   └─────────┘└─────────┘└─────────┘\n"
          ]
        }
      ]
    },
    {
      "cell_type": "markdown",
      "source": [
        "**Let's look at another example:**"
      ],
      "metadata": {
        "id": "jIXZkXULWgrM"
      }
    },
    {
      "cell_type": "code",
      "source": [
        "#\n",
        "from qiskit.circuit import QuantumCircuit,ParameterVector\n",
        "theta = ParameterVector('θ', 3) # It contains 3 parameters named Q.\n",
        "qc = QuantumCircuit(3)\n",
        "qc.h([0,1,2]) # Each qubit applies a Hadamard gate, thus placing it into superposition.\n",
        "qc.p(theta[0],0)\n",
        "qc.p(theta[1],1)  # A phase gate P is applied to each qubit.\n",
        "\n",
        "qc.p(theta[2],2)\n",
        "qc.draw()"
      ],
      "metadata": {
        "colab": {
          "base_uri": "https://localhost:8080/",
          "height": 125
        },
        "id": "SRakQxEFWKOg",
        "outputId": "059f2755-479c-46bf-f5e2-b10f3c86435e"
      },
      "execution_count": 5,
      "outputs": [
        {
          "output_type": "execute_result",
          "data": {
            "text/plain": [
              "     ┌───┐┌─────────┐\n",
              "q_0: ┤ H ├┤ P(θ[0]) ├\n",
              "     ├───┤├─────────┤\n",
              "q_1: ┤ H ├┤ P(θ[1]) ├\n",
              "     ├───┤├─────────┤\n",
              "q_2: ┤ H ├┤ P(θ[2]) ├\n",
              "     └───┘└─────────┘"
            ],
            "text/html": [
              "<pre style=\"word-wrap: normal;white-space: pre;background: #fff0;line-height: 1.1;font-family: &quot;Courier New&quot;,Courier,monospace\">     ┌───┐┌─────────┐\n",
              "q_0: ┤ H ├┤ P(θ[0]) ├\n",
              "     ├───┤├─────────┤\n",
              "q_1: ┤ H ├┤ P(θ[1]) ├\n",
              "     ├───┤├─────────┤\n",
              "q_2: ┤ H ├┤ P(θ[2]) ├\n",
              "     └───┘└─────────┘</pre>"
            ]
          },
          "metadata": {},
          "execution_count": 5
        }
      ]
    },
    {
      "cell_type": "markdown",
      "source": [
        "In Qiskit, we use the **`bind_parameters()`** method to connect parameter values to a new circuit. This method is used to link a parameter vector or the values of parameters to a specific circuit.\n",
        "\n",
        "Firstly, we create a ParameterVector containing the parameters. Then, we use the **`bind_parameters()`** method to connect the values of this parameter vector to a specific circuit.\n",
        "\n",
        "Let's apply this to our circuit right away."
      ],
      "metadata": {
        "id": "aTq0MHDaWwvz"
      }
    },
    {
      "cell_type": "code",
      "source": [
        "#\n",
        "import math\n",
        "b_qc = qc.assign_parameters({theta: [math.pi/8, math.pi/4, math.pi/2]})\n",
        "b_qc.draw()"
      ],
      "metadata": {
        "colab": {
          "base_uri": "https://localhost:8080/",
          "height": 125
        },
        "id": "Bf8si_tIW0ko",
        "outputId": "b7f0e4a8-ec81-454f-dbea-6e4429530558"
      },
      "execution_count": 6,
      "outputs": [
        {
          "output_type": "execute_result",
          "data": {
            "text/plain": [
              "     ┌───┐┌────────┐\n",
              "q_0: ┤ H ├┤ P(π/8) ├\n",
              "     ├───┤├────────┤\n",
              "q_1: ┤ H ├┤ P(π/4) ├\n",
              "     ├───┤├────────┤\n",
              "q_2: ┤ H ├┤ P(π/2) ├\n",
              "     └───┘└────────┘"
            ],
            "text/html": [
              "<pre style=\"word-wrap: normal;white-space: pre;background: #fff0;line-height: 1.1;font-family: &quot;Courier New&quot;,Courier,monospace\">     ┌───┐┌────────┐\n",
              "q_0: ┤ H ├┤ P(π/8) ├\n",
              "     ├───┤├────────┤\n",
              "q_1: ┤ H ├┤ P(π/4) ├\n",
              "     ├───┤├────────┤\n",
              "q_2: ┤ H ├┤ P(π/2) ├\n",
              "     └───┘└────────┘</pre>"
            ]
          },
          "metadata": {},
          "execution_count": 6
        }
      ]
    }
  ]
}